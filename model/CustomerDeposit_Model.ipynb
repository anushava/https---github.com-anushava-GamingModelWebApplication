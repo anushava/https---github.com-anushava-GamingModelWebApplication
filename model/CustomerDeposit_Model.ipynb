{
 "cells": [
  {
   "attachments": {},
   "cell_type": "markdown",
   "id": "e89bd993",
   "metadata": {},
   "source": [
    "# Practical example. Gaming System"
   ]
  },
  {
   "attachments": {},
   "cell_type": "markdown",
   "id": "b1d13b36",
   "metadata": {},
   "source": [
    "## Problem\n",
    "\n",
    "Given data from an gaming app. Each customer in the database has made a activity at least once, that's why he/she is in the database. We want to create a machine learning algorithm based on our available data that to predict the total deposit over the next 30 days.\n",
    "\n",
    "The main idea is that if a customer has a low probability of coming back, there is no reason to spend any money on advertizing to him/her.\n",
    "\n",
    "Given a .csv summarizing the data. There are five variables: \n",
    "* `tenure`, which is the number of days since the customers first activity,\n",
    "* `deposit`, which is the sum of deposits up to a point in time,\n",
    "* `turnover`, which is the sum of money spent up to a point in time,\n",
    "* `withdrawal`, which is the sum of withdrawals up to a point in time, and\n",
    "* `deposit_next`, which is the sum of deposits in the next 30 days (the target).\n",
    "\n",
    "Pre-processing:\n",
    "Prepare data and preprocess it. Before training the neural network, need to standardize the numerical features (tenure, deposit, turnover, withdrawal) to have zero mean and unit variance, to ensure that each feature contributes equally to the model. You can achieve this using a standard scaler from a machine learning library like scikit-learn. Create training, validation and test datasets.\n",
    "\n",
    "Model Architecture:\n",
    "Outlining the model with the layers and choose the activation functions. The input layer of the neural network will have 4 nodes, corresponding to the 4 features (tenure, deposit, turnover, withdrawal) in the dataset. The output layer will have a single node, corresponding to the predicted total deposit over the next 30 days. You can experiment with the number of hidden layers and nodes in each layer, but a good starting point would be to use 2 or 3 hidden layers with 16-32 nodes each. You can also experiment with different activation functions, such as ReLU or sigmoid.\n",
    "\n",
    "Training:\n",
    "Make the model to learn with appropriate optimizers and loss function. You can train the model using stochastic gradient descent (SGD) or an optimizer like Adam, with mean squared error (MSE) as the loss function. You can experiment with different learning rates and batch sizes to optimize the training process.\n",
    "\n",
    "Evaluation:\n",
    "To evaluate the performance of the model, you can split the dataset into training, validation and test sets, and use metrics like mean square error (MSE) to measure the prediction error. You can also plot the actual vs. predicted values to visualize the model's performance.\n",
    "\n",
    "Post-processing:\n",
    "After training the model, you can use it to predict the total deposit over the next 30 days for new customers with test data or by inputting their tenure, deposit, turnover, and withdrawal values. You may also want to inverse-transform the predicted value back to the original scale using the same scaler used in the pre-processing step.\n",
    "\n",
    "The task is simple: create a machine learning algorithm, which is able to predict the total deposit over the next 30 days. \n",
    "\n",
    "This is a supervised regression problem with one outcome."
   ]
  },
  {
   "attachments": {},
   "cell_type": "markdown",
   "id": "65fc4ab0",
   "metadata": {},
   "source": [
    "## Create the machine learning algorithm"
   ]
  },
  {
   "attachments": {},
   "cell_type": "markdown",
   "id": "6fcc5bb6",
   "metadata": {},
   "source": [
    "# Import Required Libraries"
   ]
  },
  {
   "cell_type": "code",
   "execution_count": 47,
   "id": "ca833664",
   "metadata": {},
   "outputs": [],
   "source": [
    "import numpy as np\n",
    "import pandas as pd\n",
    "import matplotlib.pyplot as plt\n",
    "import seaborn as sns\n",
    "from sklearn.model_selection import train_test_split\n",
    "from sklearn.preprocessing import StandardScaler\n",
    "from keras.models import Sequential\n",
    "from keras.layers import Dense, Dropout\n",
    "import pickle \n",
    "from keras.models import load_model\n",
    "import joblib\n",
    "import tensorflow as tf"
   ]
  },
  {
   "attachments": {},
   "cell_type": "markdown",
   "id": "e5fae8f0",
   "metadata": {},
   "source": [
    "# Data"
   ]
  },
  {
   "cell_type": "code",
   "execution_count": 48,
   "id": "fe70de85",
   "metadata": {},
   "outputs": [
    {
     "name": "stdout",
     "output_type": "stream",
     "text": [
      "(20000, 5)\n",
      "   tenure  deposit  turnover  withdrawal  deposit_next\n",
      "0      10   762.27   1677.18     1476.24       2815.66\n",
      "1    1473    69.99    279.16        0.00          0.00\n",
      "2     297    34.35     81.99        0.00          0.00\n",
      "3    3829  4347.15  41290.29        0.00          0.00\n",
      "4    1258  3593.85  13883.59     8825.21          0.00\n"
     ]
    }
   ],
   "source": [
    "# Load the data into the pandas dataframe\n",
    "data = pd.read_csv('data/data.csv')\n",
    "print(data.shape)\n",
    "print(data.head())"
   ]
  },
  {
   "attachments": {},
   "cell_type": "markdown",
   "id": "bbb4202e",
   "metadata": {},
   "source": [
    "Pre-processing:\n",
    "Prepare data and preprocess it. Before training the neural network, you may want to standardize the numerical features (tenure, deposit, turnover, withdrawal) to have zero mean and unit variance, to ensure that each feature contributes equally to the model. You can achieve this using a standard scaler from a machine learning library like scikit-learn. Shuffle the data to avoid the data is interdependent on dates. Create training, validation and test datasets.\n",
    "\n",
    "Model Architecture:\n",
    "Outlining the model with the layers and choose the activation functions. The input layer of the neural network will have 4 nodes, corresponding to the 4 features (tenure, deposit, turnover, withdrawal) in the dataset. The output layer will have a single node, corresponding to the predicted total deposit over the next 30 days. You can experiment with the number of hidden layers and nodes in each layer, but a good starting point would be to use 2 or 3 hidden layers with 16-32 nodes each. You can also experiment with different activation functions, such as ReLU or sigmoid because input data is non linear when checking againt the deposit_next so considering to implement supervised regression model with linear and nonlinear layers in the architecture.\n",
    "\n",
    "Training:\n",
    "Make the model to learn with appropriate optimizers and loss function. You can train the model using stochastic gradient descent (SGD) or an optimizer like Adam, with mean squared error (MSE) as the loss function. You can experiment with different learning rates and batch sizes to optimize the training process. Early stopping meachanism used to avoid the overfitting the model with the validation data.\n",
    "\n",
    "Evaluation:\n",
    "To evaluate the performance of the model, you can split the dataset into training and validation sets, and use metrics like mean sqaured error (MSE) to measure the prediction error. You can also plot the actual vs. predicted values to visualize the model's performance.\n",
    "\n",
    "Post-processing:\n",
    "After training the model, you can use it to predict the total deposit over the next 30 days for new customers by inputting their tenure, deposit, turnover, and withdrawal values. You may also want to inverse-transform the predicted value back to the original scale using the same scaler used in the pre-processing step."
   ]
  },
  {
   "attachments": {},
   "cell_type": "markdown",
   "id": "12a2cd1c",
   "metadata": {},
   "source": [
    "# Data Preprocessing"
   ]
  },
  {
   "cell_type": "code",
   "execution_count": 49,
   "id": "ba900ac5",
   "metadata": {},
   "outputs": [
    {
     "data": {
      "text/plain": [
       "tenure          0\n",
       "deposit         0\n",
       "turnover        0\n",
       "withdrawal      0\n",
       "deposit_next    0\n",
       "dtype: int64"
      ]
     },
     "execution_count": 49,
     "metadata": {},
     "output_type": "execute_result"
    }
   ],
   "source": [
    "data.isnull().sum()"
   ]
  },
  {
   "attachments": {},
   "cell_type": "markdown",
   "id": "15026fc6",
   "metadata": {},
   "source": [
    "Data did not contain the null values."
   ]
  },
  {
   "cell_type": "code",
   "execution_count": 50,
   "id": "c3951de4",
   "metadata": {},
   "outputs": [
    {
     "name": "stdout",
     "output_type": "stream",
     "text": [
      "             tenure       deposit      turnover    withdrawal  deposit_next\n",
      "count  20000.000000  2.000000e+04  2.000000e+04  2.000000e+04  20000.000000\n",
      "mean    1864.481550  1.369928e+04  9.769238e+04  1.006299e+04    508.521096\n",
      "std     1981.166128  6.977305e+04  6.342309e+05  5.414508e+04   1999.365001\n",
      "min        0.000000  2.175000e+01  0.000000e+00  0.000000e+00      0.000000\n",
      "25%      197.000000  1.376875e+02  4.154825e+02  0.000000e+00      0.000000\n",
      "50%     1254.000000  8.297000e+02  3.382435e+03  3.289600e+02      0.000000\n",
      "75%     2970.000000  4.825380e+03  2.602971e+04  3.507213e+03    214.595000\n",
      "max     7969.000000  2.851920e+06  3.815992e+07  3.328575e+06  94871.490000\n"
     ]
    }
   ],
   "source": [
    "print(data.describe())"
   ]
  },
  {
   "attachments": {},
   "cell_type": "markdown",
   "id": "5fa542bf",
   "metadata": {},
   "source": [
    "Data is from long tenure of 7969 days and depost, turnover, withdrawal and deposit_next contains data varies on large scale."
   ]
  },
  {
   "cell_type": "code",
   "execution_count": 51,
   "id": "2dfd516b",
   "metadata": {},
   "outputs": [
    {
     "name": "stdout",
     "output_type": "stream",
     "text": [
      "                tenure   deposit  turnover  withdrawal  deposit_next\n",
      "tenure        1.000000  0.214081  0.165520    0.197285      0.043125\n",
      "deposit       0.214081  1.000000  0.896557    0.952798      0.238517\n",
      "turnover      0.165520  0.896557  1.000000    0.820543      0.188775\n",
      "withdrawal    0.197285  0.952798  0.820543    1.000000      0.239993\n",
      "deposit_next  0.043125  0.238517  0.188775    0.239993      1.000000\n"
     ]
    },
    {
     "data": {
      "image/png": "[encoded data removed]",
      "text/plain": [
       "<Figure size 700x500 with 2 Axes>"
      ]
     },
     "metadata": {},
     "output_type": "display_data"
    }
   ],
   "source": [
    "print(data.corr())\n",
    "plt.figure(figsize=(7,5))\n",
    "correlation = data.corr()\n",
    "sns.heatmap(correlation, cmap='coolwarm', annot=True)\n",
    "plt.show()"
   ]
  },
  {
   "attachments": {},
   "cell_type": "markdown",
   "id": "3a6ee1b6",
   "metadata": {},
   "source": [
    "Correlation shows that deposit, turover and withdrawal are highly positively corelated with corelation scale of 0.82 to 0.95.\n",
    "In the large scale one measure is enough instaed of keeping all corelate measures. At this moment we have only four input features so using all the available features for the model training.  "
   ]
  },
  {
   "attachments": {},
   "cell_type": "markdown",
   "id": "11ba5a6a",
   "metadata": {},
   "source": [
    "# Splitting Data "
   ]
  },
  {
   "cell_type": "code",
   "execution_count": 52,
   "id": "ebd25132",
   "metadata": {},
   "outputs": [],
   "source": [
    "# Get the input variables into X and output feature into Y\n",
    "X = data.iloc[:, :-1].values\n",
    "y = data.iloc[:, -1].values\n",
    "\n",
    "# Scale the input features to a similar scaling range\n",
    "scaler = StandardScaler()\n",
    "X_scaled = scaler.fit_transform(X)"
   ]
  },
  {
   "attachments": {},
   "cell_type": "markdown",
   "id": "deecc2c1",
   "metadata": {},
   "source": [
    "# Shuffle the data"
   ]
  },
  {
   "cell_type": "code",
   "execution_count": 53,
   "id": "a473585f",
   "metadata": {},
   "outputs": [],
   "source": [
    "# When the data was collected it might be actually arranged by date\n",
    "# Shuffling the indices of the data, so the data is not arranged in any way when we feed it.\n",
    "# Since we will be batching, we want the data to be as randomly spread out as possible\n",
    "shuffled_indices = np.arange(X_scaled.shape[0])\n",
    "np.random.shuffle(shuffled_indices)\n",
    "\n",
    "# Use the shuffled indices to shuffle the inputs and targets.\n",
    "shuffled_inputs = X_scaled[shuffled_indices]\n",
    "shuffled_targets = y[shuffled_indices]"
   ]
  },
  {
   "cell_type": "code",
   "execution_count": 54,
   "id": "ae3fc0cb",
   "metadata": {},
   "outputs": [],
   "source": [
    "# Save the datasets in *.npz.\n",
    "np.savez('Gaming_data_train', inputs=shuffled_inputs, targets=shuffled_targets)"
   ]
  },
  {
   "cell_type": "code",
   "execution_count": 55,
   "id": "fcee9732",
   "metadata": {},
   "outputs": [],
   "source": [
    "# let's create a temporary variable npz, where we will retrive datasets\n",
    "npz = np.load('Gaming_data_train.npz')\n",
    "# we extract the inputs using the keyword under which we saved them\n",
    "# to ensure that they are all floats, let's also take care of that\n",
    "saved_inputs = npz['inputs'].astype(float)\n",
    "saved_targets = npz['targets'].astype(float)"
   ]
  },
  {
   "cell_type": "code",
   "execution_count": 56,
   "id": "a4a88b0f",
   "metadata": {},
   "outputs": [],
   "source": [
    "# Split the dataset into training and test sets\n",
    "train_inputs, test_inputs, train_outcome, test_outcome = train_test_split(saved_inputs, saved_targets, test_size=0.2, random_state=42)"
   ]
  },
  {
   "attachments": {},
   "cell_type": "markdown",
   "id": "06dab421",
   "metadata": {},
   "source": [
    "# Model Creation"
   ]
  },
  {
   "cell_type": "code",
   "execution_count": 57,
   "id": "25e3bc43",
   "metadata": {},
   "outputs": [],
   "source": [
    "# intialize width of the input, output and hidden layers\n",
    "input_size = train_inputs.shape[1]\n",
    "output_size = 1\n",
    "hidden_layer_size = 64\n",
    "\n",
    "# Define the model architecture\n",
    "CustomerDepositModel = Sequential()\n",
    "CustomerDepositModel.add(Dense(units=hidden_layer_size, activation='relu', input_dim=input_size))\n",
    "CustomerDepositModel.add(Dense(units=hidden_layer_size, activation='relu'))\n",
    "CustomerDepositModel.add(Dense(units=output_size, activation='linear'))"
   ]
  },
  {
   "attachments": {},
   "cell_type": "markdown",
   "id": "62344206",
   "metadata": {},
   "source": [
    "Choose the optimizer and the loss function"
   ]
  },
  {
   "cell_type": "code",
   "execution_count": 58,
   "id": "f0bc6e3e",
   "metadata": {},
   "outputs": [],
   "source": [
    "# Compile the model\n",
    "CustomerDepositModel.compile(loss='mean_squared_error',\n",
    "                             optimizer='adam')"
   ]
  },
  {
   "attachments": {},
   "cell_type": "markdown",
   "id": "d940bda8",
   "metadata": {},
   "source": [
    "# Training"
   ]
  },
  {
   "cell_type": "code",
   "execution_count": 64,
   "id": "ed11d450",
   "metadata": {},
   "outputs": [
    {
     "name": "stdout",
     "output_type": "stream",
     "text": [
      "Epoch 1/100\n",
      "400/400 - 1s - loss: 3690172.7500 - val_loss: 2870579.0000 - 1s/epoch - 3ms/step\n",
      "Epoch 2/100\n",
      "400/400 - 1s - loss: 3690344.2500 - val_loss: 2868402.2500 - 921ms/epoch - 2ms/step\n",
      "Epoch 3/100\n",
      "400/400 - 1s - loss: 3693864.7500 - val_loss: 2868509.5000 - 912ms/epoch - 2ms/step\n",
      "Epoch 4/100\n",
      "400/400 - 1s - loss: 3693415.2500 - val_loss: 2871883.0000 - 979ms/epoch - 2ms/step\n",
      "Epoch 5/100\n",
      "400/400 - 1s - loss: 3689944.2500 - val_loss: 2870844.2500 - 923ms/epoch - 2ms/step\n",
      "Epoch 6/100\n",
      "400/400 - 1s - loss: 3685700.7500 - val_loss: 2866140.5000 - 1s/epoch - 3ms/step\n",
      "Epoch 7/100\n",
      "400/400 - 1s - loss: 3691665.0000 - val_loss: 2870298.2500 - 964ms/epoch - 2ms/step\n",
      "Epoch 8/100\n",
      "400/400 - 1s - loss: 3683713.2500 - val_loss: 2871714.2500 - 983ms/epoch - 2ms/step\n",
      "Epoch 9/100\n",
      "400/400 - 1s - loss: 3690824.7500 - val_loss: 2866619.5000 - 938ms/epoch - 2ms/step\n",
      "Epoch 10/100\n",
      "400/400 - 1s - loss: 3681833.0000 - val_loss: 2867157.5000 - 942ms/epoch - 2ms/step\n",
      "Epoch 11/100\n",
      "400/400 - 1s - loss: 3682810.0000 - val_loss: 2865886.7500 - 1s/epoch - 3ms/step\n",
      "Epoch 12/100\n",
      "400/400 - 1s - loss: 3683947.7500 - val_loss: 2864126.7500 - 970ms/epoch - 2ms/step\n",
      "Epoch 13/100\n",
      "400/400 - 1s - loss: 3683130.2500 - val_loss: 2865732.7500 - 1s/epoch - 3ms/step\n",
      "Epoch 14/100\n",
      "400/400 - 1s - loss: 3679202.2500 - val_loss: 2869960.0000 - 1s/epoch - 3ms/step\n",
      "Epoch 15/100\n",
      "400/400 - 1s - loss: 3677370.2500 - val_loss: 2860865.5000 - 884ms/epoch - 2ms/step\n",
      "Epoch 16/100\n",
      "400/400 - 1s - loss: 3681466.0000 - val_loss: 2856754.2500 - 1s/epoch - 3ms/step\n",
      "Epoch 17/100\n",
      "400/400 - 1s - loss: 3686888.7500 - val_loss: 2863841.2500 - 995ms/epoch - 2ms/step\n",
      "Epoch 18/100\n",
      "400/400 - 1s - loss: 3679677.7500 - val_loss: 2862061.7500 - 1s/epoch - 3ms/step\n",
      "Epoch 19/100\n",
      "400/400 - 1s - loss: 3675563.5000 - val_loss: 2858062.7500 - 987ms/epoch - 2ms/step\n",
      "Epoch 20/100\n",
      "400/400 - 1s - loss: 3676464.7500 - val_loss: 2861111.2500 - 886ms/epoch - 2ms/step\n",
      "Epoch 21/100\n",
      "400/400 - 1s - loss: 3678719.2500 - val_loss: 2858228.7500 - 978ms/epoch - 2ms/step\n"
     ]
    }
   ],
   "source": [
    "# set a maximum number of training epochs\n",
    "NUM_EPOCHS = 100\n",
    "\n",
    "# set the batch size\n",
    "BATCH_SIZE = 32\n",
    "\n",
    "# set an early stopping mechanism\n",
    "# let's set patience=5, to be a bit tolerant against random validation loss increases\n",
    "early_stopping = tf.keras.callbacks.EarlyStopping(patience=5)\n",
    "\n",
    "# Train the model\n",
    "model_history= CustomerDepositModel.fit(train_inputs, \n",
    "                         train_outcome, \n",
    "                         epochs= NUM_EPOCHS, \n",
    "                         batch_size= BATCH_SIZE, \n",
    "                         callbacks= early_stopping,\n",
    "                         validation_split=0.2,\n",
    "                         verbose=2)"
   ]
  },
  {
   "attachments": {},
   "cell_type": "markdown",
   "id": "84c4a7e1",
   "metadata": {},
   "source": [
    "Algorithem Execution:\n",
    "\n",
    "1. The algorithm will iterate over a preset number of bacthes all from train_data\n",
    "2. The weights and biases are updated as many times as batches\n",
    "3. We get a value for the loss function to indcate how the training is going\n",
    "4. At the end of the epoch the algorithm will forward propagate the whole validation set\n",
    "5. When reach the maximum number of epochs the training will be over\n",
    "\n",
    "There are several main adjustments can try and tune the hyperparameters of the algorithm.\n",
    "\n",
    "1. The *width* (the hidden layer size) of the algorithm. Can try a hidden layer size of 200. How does the validation loss of the model change? What about the time it took the algorithm to train? Can find a hidden layer size that does better?\n",
    "2. The *depth* of the algorithm. Adding another hidden layer to the algorithm. How does the validation loss change? What about the time it took the algorithm to train? \n",
    "3. The *width and depth* of the algorithm. Add as many additional layers as you need to reach 5 hidden layers. Moreover, adjust the width of the algorithm as find suitable. How does the validation loss change? What about the time it took the algorithm to train?\n",
    "4. Fiddle with the activation functions. Try applying a ReLu to the first hidden layer and tanh to the second one. The tanh activation is given by the string 'tanh'.\n",
    "5. Adjust the batch size. Try a batch size of 100. How does the required time change? What about the loss?\n",
    "6. Adjust the batch size. Try a batch size of 1. That's the SGD. How do the time and loss change? \n",
    "7. Adjust the learning rate. Try a value of 0.0001. Does it make a difference?\n",
    "8. Adjust the learning rate. Try a value of 0.02. Does it make a difference?\n",
    "9. Combine all the methods above and try to reach a good validation loss."
   ]
  },
  {
   "cell_type": "code",
   "execution_count": 60,
   "id": "986cec8a",
   "metadata": {},
   "outputs": [
    {
     "name": "stdout",
     "output_type": "stream",
     "text": [
      "Model: \"sequential_1\"\n",
      "_________________________________________________________________\n",
      " Layer (type)                Output Shape              Param #   \n",
      "=================================================================\n",
      " dense_3 (Dense)             (None, 64)                320       \n",
      "                                                                 \n",
      " dense_4 (Dense)             (None, 64)                4160      \n",
      "                                                                 \n",
      " dense_5 (Dense)             (None, 1)                 65        \n",
      "                                                                 \n",
      "=================================================================\n",
      "Total params: 4,545\n",
      "Trainable params: 4,545\n",
      "Non-trainable params: 0\n",
      "_________________________________________________________________\n"
     ]
    }
   ],
   "source": [
    "CustomerDepositModel.summary()"
   ]
  },
  {
   "attachments": {},
   "cell_type": "markdown",
   "id": "35b7ad9d",
   "metadata": {},
   "source": [
    "## Test the model\n",
    "\n",
    "After training on the training data and validating on the validation data, we test the final prediction power of our model by running it on the test dataset that the algorithm has NEVER seen before.\n",
    "\n",
    "It is very important to realize that fiddling with the hyperparameters overfits the validation dataset. "
   ]
  },
  {
   "cell_type": "code",
   "execution_count": 61,
   "id": "81d18f38",
   "metadata": {},
   "outputs": [
    {
     "name": "stdout",
     "output_type": "stream",
     "text": [
      "125/125 [==============================] - 0s 2ms/step - loss: 2257049.0000\n",
      "Mean Squared Error: 2257049.00\n"
     ]
    }
   ],
   "source": [
    "# Evaluate the model on the test data\n",
    "mse = CustomerDepositModel.evaluate(test_inputs, test_outcome)\n",
    "print(\"Mean Squared Error: {0:.2f}\".format(mse))"
   ]
  },
  {
   "attachments": {},
   "cell_type": "markdown",
   "id": "a433ec1e",
   "metadata": {},
   "source": [
    "# Save Model and scaler"
   ]
  },
  {
   "cell_type": "code",
   "execution_count": 62,
   "id": "2329e2b9",
   "metadata": {},
   "outputs": [
    {
     "data": {
      "text/plain": [
       "['scaler.save']"
      ]
     },
     "execution_count": 62,
     "metadata": {},
     "output_type": "execute_result"
    }
   ],
   "source": [
    "pickle.dump(CustomerDepositModel, open(\"predict_customer_deposit_model.pkl\", \"wb\"))\n",
    "joblib.dump(scaler, 'scaler.save') "
   ]
  },
  {
   "attachments": {},
   "cell_type": "markdown",
   "id": "742eec87",
   "metadata": {},
   "source": [
    "# Load Model for Prediction"
   ]
  },
  {
   "cell_type": "code",
   "execution_count": 63,
   "id": "1d59369b",
   "metadata": {},
   "outputs": [
    {
     "name": "stdout",
     "output_type": "stream",
     "text": [
      "1/1 [==============================] - 0s 155ms/step\n",
      "[[207.34218]]\n"
     ]
    }
   ],
   "source": [
    "new_customer = np.array([[1009, 2508.79, 17094.33, 1370.57]]) # tenure, deposit, turnover, withdrawal\n",
    "new_customer = scaler.transform(new_customer)\n",
    "modelNew = pickle.load(open(\"predict_customer_deposit_model.pkl\", 'rb'))\n",
    "\n",
    "predicted_dep = modelNew.predict(new_customer)\n",
    "print(predicted_dep)"
   ]
  },
  {
   "attachments": {},
   "cell_type": "markdown",
   "id": "94f91c6e",
   "metadata": {},
   "source": [
    "Using the initial model and hyperparameters given in this notebook, the final test loss is measured as Mean Squared Error: 2257049.00.\n",
    "The testing loss is 3690193.5000 and validation the loss is 2877696.7500 which shows that the model is able train with the data and able to give better predictions.\n",
    "Note that each time the code is rerun, we get a different loss because each training is different. \n",
    "We have reached a suboptimal solution, so we have space to build and improve on it!"
   ]
  }
 ],
 "metadata": {
  "kernelspec": {
   "display_name": "base",
   "language": "python",
   "name": "python3"
  },
  "language_info": {
   "codemirror_mode": {
    "name": "ipython",
    "version": 3
   },
   "file_extension": ".py",
   "mimetype": "text/x-python",
   "name": "python",
   "nbconvert_exporter": "python",
   "pygments_lexer": "ipython3",
   "version": "3.11.3"
  }
 },
 "nbformat": 4,
 "nbformat_minor": 5
}
